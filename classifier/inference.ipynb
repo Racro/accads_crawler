{
 "cells": [
  {
   "cell_type": "markdown",
   "metadata": {},
   "source": [
    "## Using our fine-tuned classifier to detect child-directed websites\n",
    "\n",
    "The fine-tuned model can be used to classify child-directed websites using the code below. You can either fine-tune your own model following the instructions in the [fine-tuning.ipynb](https://github.com/targeted-and-troublesome/targeted-and-troublesome-crawler/blob/main/classifier/fine-tuning.ipynb) notebook, or download the fine-tuned model files from [the release page](https://github.com/targeted-and-troublesome/targeted-and-troublesome-crawler/releases/download/v0.1).\n",
    ".\n",
    "\n",
    "Here's what each step involves:\n",
    "\n",
    "1. **Loading the Model and Tokenizer**:\n",
    "   - **Model**: The fine-tuned model is loaded from its saved directory.\n",
    "   - **Tokenizer**: The tokenizer that was used during the fine-tuning phase is also loaded. The tokenizer converts text data into a format that the model can understand (i.e., tokenized tensors).\n",
    "\n",
    "2. **Creating a Classification Pipeline**:\n",
    "   - A pipeline is created using the `pipeline` function from the `transformers` library. This pipeline encapsulates the model and tokenizer into a single object which simplifies the process of making predictions.\n",
    "   - The pipeline is set up specifically for text classification and it'll run on the GPU if it's available on the system. If no GPU is available, then it'll run on the CPU. This pipeline setup includes options such as enabling truncation to handle text that exceeds the model's maximum input length.\n",
    "\n",
    "3. **Running Predictions on Sample Text Data**:\n",
    "   - With the pipeline ready, you can input sample text data to get predictions. The pipeline outputs the predicted class labels along with confidence scores. In the paper, the confidence scores were used to prioritize most-likely child-directed websites for manual labeling.\n"
   ]
  },
  {
   "cell_type": "markdown",
   "metadata": {},
   "source": [
    "### Download the fine-tuned model and the tokenizer\n",
    "- You can skip this step if you already fine-tuned the model yourself and obtained the model weights and the tokenizer.\n",
    "- If you don't have `wget` installed, you can manually download the files from [the release page](https://github.com/targeted-and-troublesome/targeted-and-troublesome-crawler/releases/download/v0.1)\n"
   ]
  },
  {
   "cell_type": "code",
   "execution_count": 1,
   "metadata": {},
   "outputs": [
    {
     "name": "stdout",
     "output_type": "stream",
     "text": [
      "env: BASE_URL=https://github.com/targeted-and-troublesome/targeted-and-troublesome-crawler/releases/download/v0.1\n",
      "--2024-05-20 19:05:37--  https://github.com/targeted-and-troublesome/targeted-and-troublesome-crawler/releases/download/v0.1/model.safetensors\n",
      "Resolving github.com (github.com)... 140.82.121.4\n",
      "Connecting to github.com (github.com)|140.82.121.4|:443... connected.\n",
      "HTTP request sent, awaiting response... 404 Not Found\n",
      "2024-05-20 19:05:38 ERROR 404: Not Found.\n",
      "\n",
      "--2024-05-20 19:05:38--  https://github.com/targeted-and-troublesome/targeted-and-troublesome-crawler/releases/download/v0.1/config.json\n",
      "Resolving github.com (github.com)... 140.82.121.4\n",
      "Connecting to github.com (github.com)|140.82.121.4|:443... connected.\n",
      "HTTP request sent, awaiting response... 404 Not Found\n",
      "2024-05-20 19:05:38 ERROR 404: Not Found.\n",
      "\n",
      "--2024-05-20 19:05:38--  https://github.com/targeted-and-troublesome/targeted-and-troublesome-crawler/releases/download/v0.1/tokenizer.json\n",
      "Resolving github.com (github.com)... 140.82.121.4\n",
      "Connecting to github.com (github.com)|140.82.121.4|:443... connected.\n",
      "HTTP request sent, awaiting response... 404 Not Found\n",
      "2024-05-20 19:05:39 ERROR 404: Not Found.\n",
      "\n",
      "--2024-05-20 19:05:39--  https://github.com/targeted-and-troublesome/targeted-and-troublesome-crawler/releases/download/v0.1/tokenizer_config.json\n",
      "Resolving github.com (github.com)... 140.82.121.4\n",
      "Connecting to github.com (github.com)|140.82.121.4|:443... connected.\n",
      "HTTP request sent, awaiting response... 404 Not Found\n",
      "2024-05-20 19:05:39 ERROR 404: Not Found.\n",
      "\n",
      "--2024-05-20 19:05:39--  https://github.com/targeted-and-troublesome/targeted-and-troublesome-crawler/releases/download/v0.1/trainer_state.json\n",
      "Resolving github.com (github.com)... 140.82.121.4\n",
      "Connecting to github.com (github.com)|140.82.121.4|:443... connected.\n",
      "HTTP request sent, awaiting response... 404 Not Found\n",
      "2024-05-20 19:05:39 ERROR 404: Not Found.\n",
      "\n",
      "config.json\t   tokenizer_config.json  trainer_state.json\n",
      "model.safetensors  tokenizer.json\n"
     ]
    }
   ],
   "source": [
    "%env BASE_URL=https://github.com/targeted-and-troublesome/targeted-and-troublesome-crawler/releases/download/v0.1\n",
    "\n",
    "# create the model directory\n",
    "! mkdir -p model\n",
    "\n",
    "! wget ${BASE_URL}/model.safetensors -P model\n",
    "! wget ${BASE_URL}/config.json -P model\n",
    "! wget ${BASE_URL}/tokenizer.json -P model\n",
    "! wget ${BASE_URL}/tokenizer_config.json -P model\n",
    "! wget ${BASE_URL}/trainer_state.json -P model\n",
    "\n",
    "! ls model\n"
   ]
  },
  {
   "cell_type": "markdown",
   "metadata": {},
   "source": [
    "### Create the classification pipeline"
   ]
  },
  {
   "cell_type": "code",
   "execution_count": 2,
   "metadata": {},
   "outputs": [
    {
     "name": "stdout",
     "output_type": "stream",
     "text": [
      "Using CPU\n"
     ]
    }
   ],
   "source": [
    "import torch\n",
    "from transformers import pipeline\n",
    "from transformers import AutoModelForSequenceClassification, AutoTokenizer\n",
    "\n",
    "# model weights and tokenizer files should be in this directory\n",
    "MODEL_PATH = 'model'\n",
    "\n",
    "# Load the model and tokenizer\n",
    "MODEL = AutoModelForSequenceClassification.from_pretrained(MODEL_PATH, local_files_only=True)\n",
    "TOKENIZER = AutoTokenizer.from_pretrained(MODEL_PATH)\n",
    "\n",
    "\n",
    "def create_pipeline(model, tokenizer):\n",
    "    \"\"\"Create a text classification pipeline.\"\"\"\n",
    "    DEVICE = 0 if torch.cuda.is_available() else -1\n",
    "    if DEVICE == 0:\n",
    "        print(f\"Using GPU: {torch.cuda.get_device_name(0)}\")\n",
    "    else:\n",
    "        print(\"Using CPU\")\n",
    "\n",
    "    try:\n",
    "        return pipeline(\"text-classification\", model=model,\n",
    "                        tokenizer=tokenizer, device=DEVICE, truncation=True)\n",
    "    except Exception as e:\n",
    "        print(f\"Error creating the pipeline: {e}\")\n",
    "        return None\n",
    "\n",
    "\n",
    "webpage_classifier = create_pipeline(MODEL, TOKENIZER)"
   ]
  },
  {
   "cell_type": "markdown",
   "metadata": {},
   "source": [
    "## Example usage"
   ]
  },
  {
   "cell_type": "code",
   "execution_count": 3,
   "metadata": {},
   "outputs": [
    {
     "name": "stdout",
     "output_type": "stream",
     "text": [
      "Result: [{'label': 'LABEL_1', 'score': 0.9773780703544617}] Online Toddler Games and Online Games for Kids. Online games for toddlers, preschool kids and babies.\n",
      "Result: [{'label': 'LABEL_1', 'score': 0.9791836738586426}] Play the best games for children of all ages! Free games made for 2 - 3 - 4 - 5 years old.\n",
      "Result: [{'label': 'LABEL_1', 'score': 0.9812673330307007}] Accueil - Jeux éducatifs gratuits en ligne. Jeux éducatifs gratuits pour enfants de maternelle et primaire.\n",
      "Result: [{'label': 'LABEL_1', 'score': 0.9803311228752136}] Kinderspiele - Spiele Kinderspiele online auf Jetztspielen.de. Geh auf Abenteuer, verbessere deine Mathefähigkeiten und mehr in unserer tollen Sammlung an Kinderspielen. Wir haben alles von Lern- bis zu Musikspielen.\n",
      "Result: [{'label': 'LABEL_1', 'score': 0.9803564548492432}] Juegos para niños y niñas de 2 a 3 años. Juegos educativos para niños y niñas de 2 a 3 años. Juegos de aprendizaje para niños y niñas de 2 a 3 años.\n",
      "Result: [{'label': 'LABEL_0', 'score': 0.9759492874145508}] Internet Archive: Digital Library of Free & Borrowable Books, Movies, Music & Wayback Machine\n",
      "Result: [{'label': 'LABEL_0', 'score': 0.9965941309928894}] Home - BBC News. Visit BBC News for up-to-the-minute news, breaking news, video, audio and feature stories. BBC News provides trusted World and UK news as well as local and regional perspectives. Also entertainment, business, science, technology and health news.\n",
      "Result: [{'label': 'LABEL_0', 'score': 0.9974047541618347}] NOS Nieuws - Nieuws, Sport en Evenementen | Nederlandse Omroep Stichting. Altijd. Overal. Met de NOS blijf je altijd en overal op de hoogte van het laatste nieuws\n"
     ]
    }
   ],
   "source": [
    "# create the pipeline\n",
    "\n",
    "TEST_TITLE_DESCRIPTIONS = [\n",
    "    \"Online Toddler Games and Online Games for Kids. Online games for toddlers, preschool kids and babies.\",\n",
    "    \"Play the best games for children of all ages! Free games made for 2 - 3 - 4 - 5 years old.\",\n",
    "    \"Accueil - Jeux éducatifs gratuits en ligne. Jeux éducatifs gratuits pour enfants de maternelle et primaire.\",\n",
    "    \"Kinderspiele - Spiele Kinderspiele online auf Jetztspielen.de. Geh auf Abenteuer, verbessere deine Mathefähigkeiten und mehr in unserer tollen Sammlung an Kinderspielen. Wir haben alles von Lern- bis zu Musikspielen.\",\n",
    "    \"Juegos para niños y niñas de 2 a 3 años. Juegos educativos para niños y niñas de 2 a 3 años. Juegos de aprendizaje para niños y niñas de 2 a 3 años.\",\n",
    "    # non-child related:\n",
    "    \"Internet Archive: Digital Library of Free & Borrowable Books, Movies, Music & Wayback Machine\",\n",
    "    \"Home - BBC News. Visit BBC News for up-to-the-minute news, breaking news, video, audio and feature stories. BBC News provides trusted World and UK news as well as local and regional perspectives. Also entertainment, business, science, technology and health news.\",\n",
    "    \"NOS Nieuws - Nieuws, Sport en Evenementen | Nederlandse Omroep Stichting. Altijd. Overal. Met de NOS blijf je altijd en overal op de hoogte van het laatste nieuws\",\n",
    "    ]\n",
    "\n",
    "\n",
    "\n",
    "for title_desc in TEST_TITLE_DESCRIPTIONS:\n",
    "    result = webpage_classifier(title_desc)\n",
    "    print(f\"Result: {result} {title_desc}\")\n"
   ]
  }
 ],
 "metadata": {
  "kernelspec": {
   "display_name": "Python 3",
   "language": "python",
   "name": "python3"
  },
  "language_info": {
   "codemirror_mode": {
    "name": "ipython",
    "version": 3
   },
   "file_extension": ".py",
   "mimetype": "text/x-python",
   "name": "python",
   "nbconvert_exporter": "python",
   "pygments_lexer": "ipython3",
   "version": "3.11.6"
  }
 },
 "nbformat": 4,
 "nbformat_minor": 2
}
