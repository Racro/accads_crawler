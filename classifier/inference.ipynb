{
 "cells": [
  {
   "cell_type": "markdown",
   "metadata": {},
   "source": [
    "## Using the fine-tuned classifier\n",
    "\n",
    "The fine-tuned model can be used to classify child-directed websites using the code below. You can either fine-tune your own model following the instructions in the [fine-tuning.ipynb](https://github.com/targeted-and-troublesome/targeted-and-troublesome-crawler/blob/main/classifier/fine-tuning.ipynb) notebook, or download the fine-tuned model [here](TODO).\n",
    "\n",
    "Here's what each step involves:\n",
    "\n",
    "1. **Loading the Model and Tokenizer**:\n",
    "   - **Model**: The fine-tuned model is loaded from its saved directory.\n",
    "   - **Tokenizer**: The tokenizer that was used during the training phase is also loaded. The tokenizer converts text data into a format that the model can understand (i.e., tokenized tensors).\n",
    "\n",
    "2. **Creating a Classification Pipeline**:\n",
    "   - A pipeline is created using the `pipeline` function from the `transformers` library. This pipeline encapsulates the model and tokenizer into a single object which simplifies the process of making predictions.\n",
    "   - The pipeline is set up specifically for text classification and is configured to run on a specific device (e.g., GPU or CPU). This setup includes options such as enabling truncation to handle text that exceeds the model's maximum input length.\n",
    "\n",
    "3. **Running Predictions on Sample Text Data**:\n",
    "   - With the pipeline ready, you can input sample text data to get predictions. The pipeline outputs the predicted class labels along with confidence scores. In the paper, the confidence scores were used to prioritize most-likely child-directed websites for manual labeling.\n"
   ]
  },
  {
   "cell_type": "markdown",
   "metadata": {},
   "source": [
    "### Download the model and the tokenizer (if you haven't fine-tuned the model yourself)\n"
   ]
  },
  {
   "cell_type": "code",
   "execution_count": null,
   "metadata": {},
   "outputs": [],
   "source": [
    "# ! wget TODO (replace with the model URL)\n",
    "# ! wget TODO (replace with the tokenizer URL)"
   ]
  },
  {
   "cell_type": "code",
   "execution_count": null,
   "metadata": {},
   "outputs": [],
   "source": [
    "from transformers import pipeline\n",
    "from transformers import AutoModelForSequenceClassification, AutoTokenizer\n",
    "\n",
    "# TODO: set the path to the model and tokenizer\n",
    "MODEL_PATH = '/path/to/model'\n",
    "# Load the model and tokenizer\n",
    "MODEL = AutoModelForSequenceClassification.from_pretrained(MODEL_PATH, local_files_only=True)\n",
    "TOKENIZER = AutoTokenizer.from_pretrained(MODEL_PATH)\n",
    "\n",
    "def create_pipeline(model, tokenizer):\n",
    "    \"\"\"Create a text classification pipeline.\"\"\"\n",
    "    try:\n",
    "        return pipeline(\"text-classification\", model=model, tokenizer=tokenizer, device=0, truncation=True)\n",
    "    except Exception as e:\n",
    "        print(f\"Error creating pipeline: {e}\")\n",
    "        return None\n",
    "\n",
    "def run_inference(text_data, classifier):\n",
    "    \"\"\"Run inference on provided text data using the classifier pipeline.\"\"\"\n",
    "    if classifier is None:\n",
    "        print(\"Classifier pipeline is not available.\")\n",
    "        return\n",
    "\n",
    "    try:\n",
    "        for text in text_data:\n",
    "            result = classifier(text)\n",
    "            print(f\"Text: {text}, Prediction: {result}\")\n",
    "    except Exception as e:\n",
    "        print(f\"Error during inference: {e}\")"
   ]
  },
  {
   "cell_type": "markdown",
   "metadata": {},
   "source": [
    "## Example usage"
   ]
  },
  {
   "cell_type": "code",
   "execution_count": null,
   "metadata": {},
   "outputs": [],
   "source": [
    "# create the pipeline\n",
    "webpage_classifier = create_pipeline(MODEL, TOKENIZER)\n",
    "\n",
    "test_data_text = [\n",
    "    \"Online Toddler Games and Online Games for Kids. Online games for toddlers, preschool kids and babies.\",\n",
    "    \"Play the best games for children of all ages! Free games made for 2 - 3 - 4 - 5 years old.\"\n",
    "    ]\n",
    "run_inference(test_data_text, webpage_classifier)\n"
   ]
  }
 ],
 "metadata": {
  "kernelspec": {
   "display_name": "Python 3",
   "language": "python",
   "name": "python3"
  },
  "language_info": {
   "codemirror_mode": {
    "name": "ipython",
    "version": 3
   },
   "file_extension": ".py",
   "mimetype": "text/x-python",
   "name": "python",
   "nbconvert_exporter": "python",
   "pygments_lexer": "ipython3",
   "version": "3.11.6"
  }
 },
 "nbformat": 4,
 "nbformat_minor": 2
}
