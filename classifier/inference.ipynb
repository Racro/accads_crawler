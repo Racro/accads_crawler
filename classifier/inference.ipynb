{
 "cells": [
  {
   "cell_type": "markdown",
   "metadata": {},
   "source": [
    "## Fine-tuning or using the model to detect child-directed websites\n",
    "\n",
    "To classify child-directed websites with our fine-tuned model, follow these steps:\n",
    "\n",
    "**Load Model and Tokenizer**: Download the fine-tuned model files from [the release page](https://github.com/targeted-and-troublesome/targeted-and-troublesome-crawler/releases/download/v0.1) or fine-tune yourself with your own data using [fine-tuning notebook](https://github.com/targeted-and-troublesome/targeted-and-troublesome-crawler/blob/main/classifier/fine-tuning.ipynb).\n",
    "\n",
    "\n",
    "**Creating a Classification Pipeline**: Use `transformers` library to create a text classification pipeline.\n",
    "\n",
    "**Running Predictions**: The pipeline outputs the predicted class labels along with confidence scores. In the paper, the confidence scores were used to prioritize most-likely child-directed websites for manual labeling.\n"
   ]
  },
  {
   "cell_type": "markdown",
   "metadata": {},
   "source": [
    "### Download the fine-tuned model and the tokenizer\n",
    "- You can skip this step if you already fine-tuned or downloaded the model and the tokenizer files.\n",
    "- If you don't have `wget` installed, you can manually download the files from [the release page](https://github.com/targeted-and-troublesome/targeted-and-troublesome-crawler/releases/download/v0.1)\n"
   ]
  },
  {
   "cell_type": "code",
   "execution_count": 1,
   "metadata": {},
   "outputs": [
    {
     "name": "stderr",
     "output_type": "stream",
     "text": [
      "File ‘model/model.safetensors’ already there; not retrieving.\n",
      "\n",
      "File ‘model/config.json’ already there; not retrieving.\n",
      "\n",
      "File ‘model/tokenizer.json’ already there; not retrieving.\n",
      "\n",
      "File ‘model/tokenizer_config.json’ already there; not retrieving.\n",
      "\n",
      "File ‘model/trainer_state.json’ already there; not retrieving.\n",
      "\n"
     ]
    },
    {
     "name": "stdout",
     "output_type": "stream",
     "text": [
      "config.json\n",
      "model.safetensors\n",
      "tokenizer_config.json\n",
      "tokenizer.json\n",
      "trainer_state.json\n"
     ]
    }
   ],
   "source": [
    "%%bash\n",
    "# Set environment variables\n",
    "export BASE_URL=https://github.com/targeted-and-troublesome/targeted-and-troublesome-crawler/releases/download/v0.1\n",
    "export MODEL_DIR=model\n",
    "\n",
    "# Create the model directory\n",
    "mkdir -p ${MODEL_DIR}\n",
    "\n",
    "# Download files if they do not already exist\n",
    "wget -nc ${BASE_URL}/model.safetensors -P ${MODEL_DIR}\n",
    "wget -nc ${BASE_URL}/config.json -P ${MODEL_DIR}\n",
    "wget -nc ${BASE_URL}/tokenizer.json -P ${MODEL_DIR}\n",
    "wget -nc ${BASE_URL}/tokenizer_config.json -P ${MODEL_DIR}\n",
    "wget -nc ${BASE_URL}/trainer_state.json -P ${MODEL_DIR}\n",
    "\n",
    "# List the contents of the model directory\n",
    "ls ${MODEL_DIR}\n"
   ]
  },
  {
   "cell_type": "markdown",
   "metadata": {},
   "source": [
    "### Create the classification pipeline"
   ]
  },
  {
   "cell_type": "code",
   "execution_count": 2,
   "metadata": {},
   "outputs": [
    {
     "name": "stdout",
     "output_type": "stream",
     "text": [
      "Using CPU\n"
     ]
    }
   ],
   "source": [
    "import torch\n",
    "from transformers import pipeline\n",
    "from transformers import AutoModelForSequenceClassification, AutoTokenizer\n",
    "\n",
    "# model weights and tokenizer files should be in this directory\n",
    "MODEL_PATH = 'model'\n",
    "\n",
    "# Load the model and tokenizer\n",
    "MODEL = AutoModelForSequenceClassification.from_pretrained(MODEL_PATH, local_files_only=True)\n",
    "TOKENIZER = AutoTokenizer.from_pretrained(MODEL_PATH)\n",
    "\n",
    "\n",
    "def create_pipeline(model, tokenizer):\n",
    "    \"\"\"Create a text classification pipeline.\"\"\"\n",
    "\n",
    "    DEVICE = 0 if torch.cuda.is_available() else -1\n",
    "\n",
    "    if DEVICE == 0:\n",
    "        print(f\"Using GPU: {torch.cuda.get_device_name(0)}\")\n",
    "    else:\n",
    "        print(\"Using CPU\")\n",
    "\n",
    "    try:\n",
    "        return pipeline(\"text-classification\", model=model,\n",
    "                        tokenizer=tokenizer, device=DEVICE, truncation=True)\n",
    "    except Exception as e:\n",
    "        print(f\"Error creating the pipeline: {e}\")\n",
    "        return None\n",
    "\n",
    "\n",
    "webpage_classifier = create_pipeline(MODEL, TOKENIZER)"
   ]
  },
  {
   "cell_type": "markdown",
   "metadata": {},
   "source": [
    "## Example usage"
   ]
  },
  {
   "cell_type": "code",
   "execution_count": 6,
   "metadata": {},
   "outputs": [
    {
     "name": "stdout",
     "output_type": "stream",
     "text": [
      "Result: LABEL_1 (0.9774) - Online Toddler Games and Online Games for Kids. Online games for toddlers, preschool kids and babies.\n",
      "Result: LABEL_1 (0.9792) - Play the best games for children of all ages! Free games made for 2 - 3 - 4 - 5 years old.\n",
      "Result: LABEL_1 (0.9813) - Accueil - Jeux éducatifs gratuits en ligne. Jeux éducatifs gratuits pour enfants de maternelle et primaire.\n",
      "Result: LABEL_1 (0.9803) - Kinderspiele - Spiele Kinderspiele online auf Jetztspielen.de. Geh auf Abenteuer, verbessere deine Mathefähigkeiten und mehr in unserer tollen Sammlung an Kinderspielen. Wir haben alles von Lern- bis zu Musikspielen.\n",
      "Result: LABEL_1 (0.9804) - Juegos para niños y niñas de 2 a 3 años. Juegos educativos para niños y niñas de 2 a 3 años. Juegos de aprendizaje para niños y niñas de 2 a 3 años.\n",
      "Result: LABEL_0 (0.9759) - Internet Archive: Digital Library of Free & Borrowable Books, Movies, Music & Wayback Machine\n",
      "Result: LABEL_0 (0.9966) - Home - BBC News. Visit BBC News for up-to-the-minute news, breaking news, video, audio and feature stories. BBC News provides trusted World and UK news as well as local and regional perspectives. Also entertainment, business, science, technology and health news.\n",
      "Result: LABEL_0 (0.9974) - NOS Nieuws - Nieuws, Sport en Evenementen | Nederlandse Omroep Stichting. Altijd. Overal. Met de NOS blijf je altijd en overal op de hoogte van het laatste nieuws\n"
     ]
    }
   ],
   "source": [
    "MIXED_TITLE_DESCRIPTIONS = [\n",
    "    # child-related:\n",
    "    \"Online Toddler Games and Online Games for Kids. Online games for toddlers, preschool kids and babies.\",\n",
    "    \"Play the best games for children of all ages! Free games made for 2 - 3 - 4 - 5 years old.\",\n",
    "    \"Accueil - Jeux éducatifs gratuits en ligne. Jeux éducatifs gratuits pour enfants de maternelle et primaire.\",\n",
    "    \"Kinderspiele - Spiele Kinderspiele online auf Jetztspielen.de. Geh auf Abenteuer, verbessere deine Mathefähigkeiten und mehr in unserer tollen Sammlung an Kinderspielen. Wir haben alles von Lern- bis zu Musikspielen.\",\n",
    "    \"Juegos para niños y niñas de 2 a 3 años. Juegos educativos para niños y niñas de 2 a 3 años. Juegos de aprendizaje para niños y niñas de 2 a 3 años.\",\n",
    "    # non-child related:\n",
    "    \"Internet Archive: Digital Library of Free & Borrowable Books, Movies, Music & Wayback Machine\",\n",
    "    \"Home - BBC News. Visit BBC News for up-to-the-minute news, breaking news, video, audio and feature stories. BBC News provides trusted World and UK news as well as local and regional perspectives. Also entertainment, business, science, technology and health news.\",\n",
    "    \"NOS Nieuws - Nieuws, Sport en Evenementen | Nederlandse Omroep Stichting. Altijd. Overal. Met de NOS blijf je altijd en overal op de hoogte van het laatste nieuws\",\n",
    "    ]\n",
    "\n",
    "\n",
    "\n",
    "for title_desc in MIXED_TITLE_DESCRIPTIONS:\n",
    "    result = webpage_classifier(title_desc)\n",
    "    label = result[0]['label']\n",
    "    score = result[0]['score']\n",
    "    print(f\"Result: {label} ({score:.4f}) - {title_desc}\")"
   ]
  }
 ],
 "metadata": {
  "kernelspec": {
   "display_name": "Python 3",
   "language": "python",
   "name": "python3"
  },
  "language_info": {
   "codemirror_mode": {
    "name": "ipython",
    "version": 3
   },
   "file_extension": ".py",
   "mimetype": "text/x-python",
   "name": "python",
   "nbconvert_exporter": "python",
   "pygments_lexer": "ipython3",
   "version": "3.11.6"
  }
 },
 "nbformat": 4,
 "nbformat_minor": 2
}
